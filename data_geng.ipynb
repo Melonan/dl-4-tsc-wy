{
 "cells": [
  {
   "cell_type": "code",
   "execution_count": 16,
   "metadata": {},
   "outputs": [],
   "source": [
    "import pandas as pd\n",
    "import numpy as np\n",
    "from sklearn import preprocessing\n",
    "import sklearn\n",
    "\n",
    "import tensorflow.keras as keras\n",
    "import tensorflow as tf\n",
    "import numpy as np\n",
    "import time \n",
    "\n",
    "from utils.utils import create_directory"
   ]
  },
  {
   "cell_type": "code",
   "execution_count": 17,
   "metadata": {},
   "outputs": [],
   "source": [
    "root_dir=\"/data4/gsPrivate/dl-4-tsc\"\n",
    "\n",
    "archive_name=\"UCRArchive_2018\"\n",
    "dataset_name=\"Coffee\"\n",
    "datasets_dict = {}\n",
    "cur_root_dir = root_dir.replace('-temp', '')\n",
    "\n",
    "\n",
    "root_dir_dataset = cur_root_dir + '/archives/' + archive_name + '/' + dataset_name + '/'\n",
    "df_train = pd.read_csv(root_dir_dataset + '/' + dataset_name + '_TRAIN.tsv', sep='\\t', header=None)\n",
    "\n",
    "df_test = pd.read_csv(root_dir_dataset + '/' + dataset_name + '_TEST.tsv', sep='\\t', header=None)\n"
   ]
  },
  {
   "cell_type": "code",
   "execution_count": 18,
   "metadata": {},
   "outputs": [],
   "source": [
    "\n",
    "y_train = df_train.values[:, 0]\n",
    "y_test = df_test.values[:, 0]\n",
    "\n",
    "x_train = df_train.drop(columns=[0])\n",
    "x_test = df_test.drop(columns=[0])\n"
   ]
  },
  {
   "cell_type": "code",
   "execution_count": 19,
   "metadata": {},
   "outputs": [
    {
     "data": {
      "text/plain": [
       "((28, 286), (28,))"
      ]
     },
     "execution_count": 19,
     "metadata": {},
     "output_type": "execute_result"
    }
   ],
   "source": [
    "x_train.shape,y_train.shape"
   ]
  },
  {
   "cell_type": "code",
   "execution_count": 20,
   "metadata": {},
   "outputs": [],
   "source": [
    "\n",
    "# x_train.columns = range(x_train.shape[1])\n",
    "# x_test.columns = range(x_test.shape[1])\n"
   ]
  },
  {
   "cell_type": "code",
   "execution_count": 21,
   "metadata": {},
   "outputs": [],
   "source": [
    "\n",
    "x_train = x_train.values\n",
    "x_test = x_test.values\n"
   ]
  },
  {
   "cell_type": "code",
   "execution_count": 22,
   "metadata": {},
   "outputs": [
    {
     "data": {
      "text/plain": [
       "array([[-0.51841899, -0.48588363, -0.50500747, ..., -1.9336308 ,\n",
       "        -1.9349635 , -1.9360067 ],\n",
       "       [-0.54846169, -0.53368082, -0.51472295, ..., -1.9407273 ,\n",
       "        -1.9437857 , -1.9443082 ],\n",
       "       [-0.47263392, -0.41554604, -0.3599294 , ..., -1.9891427 ,\n",
       "        -1.9906587 , -1.9923005 ],\n",
       "       ...,\n",
       "       [-0.53874235, -0.47511614, -0.48579124, ..., -1.8360855 ,\n",
       "        -1.837943  , -1.839142  ],\n",
       "       [-0.59182708, -0.57097984, -0.59002393, ..., -1.8736945 ,\n",
       "        -1.8752949 , -1.8771268 ],\n",
       "       [-0.69637574, -0.64382723, -0.65514167, ..., -1.7773633 ,\n",
       "        -1.7789851 , -1.7804869 ]])"
      ]
     },
     "execution_count": 22,
     "metadata": {},
     "output_type": "execute_result"
    }
   ],
   "source": [
    "x_train"
   ]
  },
  {
   "cell_type": "code",
   "execution_count": 23,
   "metadata": {},
   "outputs": [],
   "source": [
    "\n",
    "\n",
    "\n",
    "# znorm\n",
    "std_ = x_train.std(axis=1, keepdims=True)\n",
    "std_[std_ == 0] = 1.0\n",
    "x_train = (x_train - x_train.mean(axis=1, keepdims=True)) / std_\n",
    "\n",
    "std_ = x_test.std(axis=1, keepdims=True)\n",
    "std_[std_ == 0] = 1.0\n",
    "x_test = (x_test - x_test.mean(axis=1, keepdims=True)) / std_\n",
    "\n",
    "datasets_dict[dataset_name] = (x_train.copy(), y_train.copy(), x_test.copy(),\n",
    "                                y_test.copy())\n",
    "\n"
   ]
  },
  {
   "cell_type": "code",
   "execution_count": 24,
   "metadata": {},
   "outputs": [
    {
     "data": {
      "text/plain": [
       "((28, 286), (28,))"
      ]
     },
     "execution_count": 24,
     "metadata": {},
     "output_type": "execute_result"
    }
   ],
   "source": [
    "x_train.shape,y_train.shape"
   ]
  },
  {
   "cell_type": "code",
   "execution_count": 25,
   "metadata": {},
   "outputs": [
    {
     "data": {
      "text/plain": [
       "(array([0., 0., 0., 0., 0., 0., 0., 0., 0., 0., 0., 0., 0., 0., 1., 1., 1.,\n",
       "        1., 1., 1., 1., 1., 1., 1., 1., 1., 1., 1., 0., 0., 0., 0., 0., 0.,\n",
       "        0., 0., 0., 0., 0., 0., 0., 0., 0., 1., 1., 1., 1., 1., 1., 1., 1.,\n",
       "        1., 1., 1., 1., 1.]),\n",
       " array([0., 0., 0., 0., 0., 0., 0., 0., 0., 0., 0., 0., 0., 0., 0., 1., 1.,\n",
       "        1., 1., 1., 1., 1., 1., 1., 1., 1., 1., 1.]))"
      ]
     },
     "execution_count": 25,
     "metadata": {},
     "output_type": "execute_result"
    }
   ],
   "source": [
    "np.concatenate((y_train, y_test), axis=0),y_test"
   ]
  },
  {
   "cell_type": "markdown",
   "metadata": {},
   "source": [
    "# fit classifier"
   ]
  },
  {
   "cell_type": "code",
   "execution_count": 26,
   "metadata": {},
   "outputs": [],
   "source": [
    "\n",
    "nb_classes = len(np.unique(np.concatenate((y_train, y_test), axis=0)))\n",
    "\n",
    "# transform the labels from integers to one hot vectors\n",
    "enc = sklearn.preprocessing.OneHotEncoder(categories='auto')\n",
    "enc.fit(np.concatenate((y_train, y_test), axis=0).reshape(-1, 1))\n",
    "y_train = enc.transform(y_train.reshape(-1, 1)).toarray()\n",
    "y_test = enc.transform(y_test.reshape(-1, 1)).toarray()\n",
    "\n",
    "# save orignal y because later we will use binary\n",
    "y_true = np.argmax(y_test, axis=1)\n",
    "\n",
    "if len(x_train.shape) == 2:  # if univariate\n",
    "    # add a dimension to make it multivariate with one dimension \n",
    "    x_train = x_train.reshape((x_train.shape[0], x_train.shape[1], 1))\n",
    "    x_test = x_test.reshape((x_test.shape[0], x_test.shape[1], 1))\n",
    "\n",
    "input_shape = x_train.shape[1:]"
   ]
  },
  {
   "cell_type": "code",
   "execution_count": 29,
   "metadata": {},
   "outputs": [
    {
     "data": {
      "text/plain": [
       "((28, 2),\n",
       " (28, 286, 1),\n",
       " (28, 286, 1),\n",
       " (28, 2),\n",
       " array([[1., 0.],\n",
       "        [1., 0.],\n",
       "        [1., 0.],\n",
       "        [1., 0.],\n",
       "        [1., 0.],\n",
       "        [1., 0.],\n",
       "        [1., 0.],\n",
       "        [1., 0.],\n",
       "        [1., 0.],\n",
       "        [1., 0.],\n",
       "        [1., 0.],\n",
       "        [1., 0.],\n",
       "        [1., 0.],\n",
       "        [1., 0.],\n",
       "        [1., 0.],\n",
       "        [0., 1.],\n",
       "        [0., 1.],\n",
       "        [0., 1.],\n",
       "        [0., 1.],\n",
       "        [0., 1.],\n",
       "        [0., 1.],\n",
       "        [0., 1.],\n",
       "        [0., 1.],\n",
       "        [0., 1.],\n",
       "        [0., 1.],\n",
       "        [0., 1.],\n",
       "        [0., 1.],\n",
       "        [0., 1.]]),\n",
       " array([0, 0, 0, 0, 0, 0, 0, 0, 0, 0, 0, 0, 0, 0, 0, 1, 1, 1, 1, 1, 1, 1,\n",
       "        1, 1, 1, 1, 1, 1]))"
      ]
     },
     "execution_count": 29,
     "metadata": {},
     "output_type": "execute_result"
    }
   ],
   "source": [
    "y_train.shape,x_train.shape,x_test.shape,y_test.shape,y_test,y_true"
   ]
  },
  {
   "cell_type": "code",
   "execution_count": null,
   "metadata": {},
   "outputs": [
    {
     "data": {
      "text/plain": [
       "((286, 1), 2)"
      ]
     },
     "execution_count": 10,
     "metadata": {},
     "output_type": "execute_result"
    }
   ],
   "source": [
    "input_shape,nb_classes"
   ]
  },
  {
   "cell_type": "code",
   "execution_count": null,
   "metadata": {},
   "outputs": [
    {
     "name": "stdout",
     "output_type": "stream",
     "text": [
      "TensorFlow version: 2.13.1\n",
      "No GPU Available.\n"
     ]
    },
    {
     "name": "stderr",
     "output_type": "stream",
     "text": [
      "2023-12-20 07:25:56.623938: E tensorflow/compiler/xla/stream_executor/cuda/cuda_driver.cc:268] failed call to cuInit: CUDA_ERROR_COMPAT_NOT_SUPPORTED_ON_DEVICE: forward compatibility was attempted on non supported HW\n",
      "2023-12-20 07:25:56.624020: I tensorflow/compiler/xla/stream_executor/cuda/cuda_diagnostics.cc:168] retrieving CUDA diagnostic information for host: soft\n",
      "2023-12-20 07:25:56.624033: I tensorflow/compiler/xla/stream_executor/cuda/cuda_diagnostics.cc:175] hostname: soft\n",
      "2023-12-20 07:25:56.624164: I tensorflow/compiler/xla/stream_executor/cuda/cuda_diagnostics.cc:199] libcuda reported version is: 510.108.3\n",
      "2023-12-20 07:25:56.624203: I tensorflow/compiler/xla/stream_executor/cuda/cuda_diagnostics.cc:203] kernel reported version is: 510.47.3\n",
      "2023-12-20 07:25:56.624213: E tensorflow/compiler/xla/stream_executor/cuda/cuda_diagnostics.cc:312] kernel version 510.47.3 does not match DSO version 510.108.3 -- cannot find working devices in this configuration\n"
     ]
    }
   ],
   "source": [
    "\n",
    "print(\"TensorFlow version:\", tf.__version__)\n",
    "\n",
    "# 检查可用的 GPU 设备\n",
    "gpus = tf.config.list_physical_devices('GPU')\n",
    "if gpus:\n",
    "    for gpu in gpus:\n",
    "        print(\"GPU Available:\", gpu)\n",
    "else:\n",
    "    print(\"No GPU Available.\")"
   ]
  },
  {
   "cell_type": "code",
   "execution_count": null,
   "metadata": {},
   "outputs": [],
   "source": [
    "\n",
    "def create_classifier(classifier_name, input_shape, nb_classes, output_directory, verbose=True):\n",
    "    if classifier_name == 'fcn':\n",
    "        from classifiers import fcn\n",
    "        return fcn.Classifier_FCN(output_directory, input_shape, nb_classes, verbose)\n",
    "    if classifier_name == 'mlp':\n",
    "        from classifiers import mlp\n",
    "        return mlp.Classifier_MLP(output_directory, input_shape, nb_classes, verbose)\n",
    "    if classifier_name == 'resnet':\n",
    "        from classifiers import resnet\n",
    "        return resnet.Classifier_RESNET(output_directory, input_shape, nb_classes, verbose)\n",
    "    if classifier_name == 'mcnn':\n",
    "        from classifiers import mcnn\n",
    "        return mcnn.Classifier_MCNN(output_directory, verbose)\n",
    "    if classifier_name == 'tlenet':\n",
    "        from classifiers import tlenet\n",
    "        return tlenet.Classifier_TLENET(output_directory, verbose)\n",
    "    if classifier_name == 'twiesn':\n",
    "        from classifiers import twiesn\n",
    "        return twiesn.Classifier_TWIESN(output_directory, verbose)\n",
    "    if classifier_name == 'encoder':\n",
    "        from classifiers import encoder\n",
    "        return encoder.Classifier_ENCODER(output_directory, input_shape, nb_classes, verbose)\n",
    "    if classifier_name == 'mcdcnn':\n",
    "        from classifiers import mcdcnn\n",
    "        return mcdcnn.Classifier_MCDCNN(output_directory, input_shape, nb_classes, verbose)\n",
    "    if classifier_name == 'cnn':  # Time-CNN\n",
    "        from classifiers import cnn\n",
    "        return cnn.Classifier_CNN(output_directory, input_shape, nb_classes, verbose)\n",
    "    if classifier_name == 'inception':\n",
    "        from classifiers import inception\n",
    "        return inception.Classifier_INCEPTION(output_directory, input_shape, nb_classes, verbose)\n",
    "\n"
   ]
  },
  {
   "cell_type": "code",
   "execution_count": null,
   "metadata": {},
   "outputs": [],
   "source": [
    "\n",
    "classifier_name = \"fcn\"\n",
    "\n",
    "output_directory = root_dir + '/results/' + classifier_name + '/' + archive_name + '' + '/' + \\\n",
    "                    dataset_name + '/'\n",
    "create_directory(output_directory)"
   ]
  },
  {
   "cell_type": "code",
   "execution_count": null,
   "metadata": {},
   "outputs": [
    {
     "name": "stdout",
     "output_type": "stream",
     "text": [
      "Model: \"model\"\n",
      "_________________________________________________________________\n",
      " Layer (type)                Output Shape              Param #   \n",
      "=================================================================\n",
      " input_1 (InputLayer)        [(None, 286, 1)]          0         \n",
      "                                                                 \n",
      " conv1d (Conv1D)             (None, 286, 128)          1152      \n",
      "                                                                 \n",
      " batch_normalization (Batch  (None, 286, 128)          512       \n",
      " Normalization)                                                  \n",
      "                                                                 \n",
      " activation (Activation)     (None, 286, 128)          0         \n",
      "                                                                 \n",
      " conv1d_1 (Conv1D)           (None, 286, 256)          164096    \n",
      "                                                                 \n",
      " batch_normalization_1 (Bat  (None, 286, 256)          1024      \n",
      " chNormalization)                                                \n",
      "                                                                 \n",
      " activation_1 (Activation)   (None, 286, 256)          0         \n",
      "                                                                 \n",
      " conv1d_2 (Conv1D)           (None, 286, 128)          98432     \n",
      "                                                                 \n",
      " batch_normalization_2 (Bat  (None, 286, 128)          512       \n",
      " chNormalization)                                                \n",
      "                                                                 \n",
      " activation_2 (Activation)   (None, 286, 128)          0         \n",
      "                                                                 \n",
      " global_average_pooling1d (  (None, 128)               0         \n",
      " GlobalAveragePooling1D)                                         \n",
      "                                                                 \n",
      " dense (Dense)               (None, 2)                 258       \n",
      "                                                                 \n",
      "=================================================================\n",
      "Total params: 265986 (1.01 MB)\n",
      "Trainable params: 264962 (1.01 MB)\n",
      "Non-trainable params: 1024 (4.00 KB)\n",
      "_________________________________________________________________\n"
     ]
    }
   ],
   "source": [
    "classifier = create_classifier(classifier_name, input_shape, nb_classes, output_directory)"
   ]
  },
  {
   "cell_type": "code",
   "execution_count": null,
   "metadata": {},
   "outputs": [
    {
     "name": "stdout",
     "output_type": "stream",
     "text": [
      "Epoch 1/100\n",
      "14/14 [==============================] - 3s 53ms/step - loss: 0.7211 - accuracy: 0.4643 - val_loss: 0.6899 - val_accuracy: 0.5714 - lr: 0.0010\n",
      "Epoch 2/100\n",
      " 7/14 [==============>...............] - ETA: 0s - loss: 0.7286 - accuracy: 0.4286"
     ]
    },
    {
     "name": "stderr",
     "output_type": "stream",
     "text": [
      "/data4/conda_envs/gsprivate/lib/python3.8/site-packages/keras/src/engine/training.py:3000: UserWarning: You are saving your model as an HDF5 file via `model.save()`. This file format is considered legacy. We recommend using instead the native Keras format, e.g. `model.save('my_model.keras')`.\n",
      "  saving_api.save_model(\n"
     ]
    },
    {
     "name": "stdout",
     "output_type": "stream",
     "text": [
      "14/14 [==============================] - 0s 29ms/step - loss: 0.7106 - accuracy: 0.5000 - val_loss: 0.6879 - val_accuracy: 0.5357 - lr: 0.0010\n",
      "Epoch 3/100\n",
      "14/14 [==============================] - 0s 29ms/step - loss: 0.6573 - accuracy: 0.8214 - val_loss: 0.6920 - val_accuracy: 0.5357 - lr: 0.0010\n",
      "Epoch 4/100\n",
      "14/14 [==============================] - 0s 25ms/step - loss: 0.6685 - accuracy: 0.6071 - val_loss: 0.6914 - val_accuracy: 0.5357 - lr: 0.0010\n",
      "Epoch 5/100\n",
      "14/14 [==============================] - 0s 30ms/step - loss: 0.6396 - accuracy: 0.5714 - val_loss: 0.6916 - val_accuracy: 0.5357 - lr: 0.0010\n",
      "Epoch 6/100\n",
      "14/14 [==============================] - 0s 29ms/step - loss: 0.6395 - accuracy: 0.6786 - val_loss: 0.7172 - val_accuracy: 0.5357 - lr: 0.0010\n",
      "Epoch 7/100\n",
      "14/14 [==============================] - 0s 31ms/step - loss: 0.5649 - accuracy: 0.8571 - val_loss: 0.7368 - val_accuracy: 0.5357 - lr: 0.0010\n",
      "Epoch 8/100\n",
      "14/14 [==============================] - 0s 27ms/step - loss: 0.6245 - accuracy: 0.7143 - val_loss: 0.7294 - val_accuracy: 0.5357 - lr: 0.0010\n",
      "Epoch 9/100\n",
      "14/14 [==============================] - 0s 32ms/step - loss: 0.5550 - accuracy: 0.8571 - val_loss: 0.7894 - val_accuracy: 0.5357 - lr: 0.0010\n",
      "Epoch 10/100\n",
      "14/14 [==============================] - 0s 31ms/step - loss: 0.4735 - accuracy: 0.8571 - val_loss: 0.9654 - val_accuracy: 0.5357 - lr: 0.0010\n",
      "Epoch 11/100\n",
      "14/14 [==============================] - 0s 29ms/step - loss: 0.4459 - accuracy: 0.8571 - val_loss: 1.0882 - val_accuracy: 0.5357 - lr: 0.0010\n",
      "Epoch 12/100\n",
      "14/14 [==============================] - 0s 29ms/step - loss: 0.4353 - accuracy: 0.8571 - val_loss: 2.0900 - val_accuracy: 0.5357 - lr: 0.0010\n",
      "Epoch 13/100\n",
      "14/14 [==============================] - 0s 24ms/step - loss: 0.4688 - accuracy: 0.8214 - val_loss: 2.4409 - val_accuracy: 0.5357 - lr: 0.0010\n",
      "Epoch 14/100\n",
      "14/14 [==============================] - 0s 24ms/step - loss: 0.5284 - accuracy: 0.6786 - val_loss: 2.7328 - val_accuracy: 0.5357 - lr: 0.0010\n",
      "Epoch 15/100\n",
      "14/14 [==============================] - 0s 24ms/step - loss: 0.6030 - accuracy: 0.6429 - val_loss: 1.7494 - val_accuracy: 0.5357 - lr: 0.0010\n",
      "Epoch 16/100\n",
      "14/14 [==============================] - 0s 23ms/step - loss: 0.4873 - accuracy: 0.8571 - val_loss: 2.6036 - val_accuracy: 0.5357 - lr: 0.0010\n",
      "Epoch 17/100\n",
      "14/14 [==============================] - 0s 29ms/step - loss: 0.4343 - accuracy: 0.8214 - val_loss: 3.7990 - val_accuracy: 0.5357 - lr: 0.0010\n",
      "Epoch 18/100\n",
      "14/14 [==============================] - 0s 25ms/step - loss: 0.6037 - accuracy: 0.7143 - val_loss: 0.8961 - val_accuracy: 0.5357 - lr: 0.0010\n",
      "Epoch 19/100\n",
      "14/14 [==============================] - 0s 25ms/step - loss: 0.5823 - accuracy: 0.7500 - val_loss: 2.4461 - val_accuracy: 0.5357 - lr: 0.0010\n",
      "Epoch 20/100\n",
      "14/14 [==============================] - 0s 24ms/step - loss: 0.4970 - accuracy: 0.8214 - val_loss: 3.2868 - val_accuracy: 0.5357 - lr: 0.0010\n",
      "Epoch 21/100\n",
      "14/14 [==============================] - 0s 24ms/step - loss: 0.5823 - accuracy: 0.6786 - val_loss: 3.4334 - val_accuracy: 0.5357 - lr: 0.0010\n",
      "Epoch 22/100\n",
      "14/14 [==============================] - 0s 24ms/step - loss: 0.5171 - accuracy: 0.7500 - val_loss: 3.4468 - val_accuracy: 0.5357 - lr: 0.0010\n",
      "Epoch 23/100\n",
      "14/14 [==============================] - 0s 24ms/step - loss: 0.5453 - accuracy: 0.7500 - val_loss: 3.3270 - val_accuracy: 0.5357 - lr: 0.0010\n",
      "Epoch 24/100\n",
      "14/14 [==============================] - 0s 23ms/step - loss: 0.4727 - accuracy: 0.7857 - val_loss: 4.1858 - val_accuracy: 0.5357 - lr: 0.0010\n",
      "Epoch 25/100\n",
      "14/14 [==============================] - 0s 28ms/step - loss: 0.4132 - accuracy: 0.7857 - val_loss: 3.2832 - val_accuracy: 0.5357 - lr: 0.0010\n",
      "Epoch 26/100\n",
      "14/14 [==============================] - 0s 27ms/step - loss: 0.3915 - accuracy: 0.8214 - val_loss: 3.5995 - val_accuracy: 0.5357 - lr: 0.0010\n",
      "Epoch 27/100\n",
      "14/14 [==============================] - 0s 23ms/step - loss: 0.4508 - accuracy: 0.7857 - val_loss: 2.0116 - val_accuracy: 0.5357 - lr: 0.0010\n",
      "Epoch 28/100\n",
      "14/14 [==============================] - 0s 24ms/step - loss: 0.4592 - accuracy: 0.7500 - val_loss: 1.6811 - val_accuracy: 0.5357 - lr: 0.0010\n",
      "Epoch 29/100\n",
      "14/14 [==============================] - 0s 24ms/step - loss: 0.4422 - accuracy: 0.8214 - val_loss: 2.4440 - val_accuracy: 0.5357 - lr: 0.0010\n",
      "Epoch 30/100\n",
      "14/14 [==============================] - 0s 23ms/step - loss: 0.4570 - accuracy: 0.7857 - val_loss: 3.0320 - val_accuracy: 0.5357 - lr: 0.0010\n",
      "Epoch 31/100\n",
      "14/14 [==============================] - 0s 27ms/step - loss: 0.3596 - accuracy: 0.8571 - val_loss: 3.2612 - val_accuracy: 0.5357 - lr: 0.0010\n",
      "Epoch 32/100\n",
      "14/14 [==============================] - 0s 28ms/step - loss: 0.3519 - accuracy: 0.8571 - val_loss: 3.3633 - val_accuracy: 0.5357 - lr: 0.0010\n",
      "Epoch 33/100\n",
      "14/14 [==============================] - 0s 23ms/step - loss: 0.4708 - accuracy: 0.7500 - val_loss: 0.8025 - val_accuracy: 0.5357 - lr: 0.0010\n",
      "Epoch 34/100\n",
      "14/14 [==============================] - 0s 24ms/step - loss: 0.4440 - accuracy: 0.8214 - val_loss: 3.4987 - val_accuracy: 0.5357 - lr: 0.0010\n",
      "Epoch 35/100\n",
      "14/14 [==============================] - 0s 23ms/step - loss: 0.3719 - accuracy: 0.8571 - val_loss: 2.2522 - val_accuracy: 0.5357 - lr: 0.0010\n",
      "Epoch 36/100\n",
      "14/14 [==============================] - 0s 24ms/step - loss: 0.4514 - accuracy: 0.7500 - val_loss: 2.2024 - val_accuracy: 0.5357 - lr: 0.0010\n",
      "Epoch 37/100\n",
      "14/14 [==============================] - 0s 23ms/step - loss: 0.5415 - accuracy: 0.7500 - val_loss: 0.8124 - val_accuracy: 0.5357 - lr: 0.0010\n",
      "Epoch 38/100\n",
      "14/14 [==============================] - 0s 24ms/step - loss: 0.3888 - accuracy: 0.8571 - val_loss: 3.1163 - val_accuracy: 0.5357 - lr: 0.0010\n",
      "Epoch 39/100\n",
      "14/14 [==============================] - 0s 28ms/step - loss: 0.3053 - accuracy: 0.9286 - val_loss: 2.0472 - val_accuracy: 0.5357 - lr: 0.0010\n",
      "Epoch 40/100\n",
      "14/14 [==============================] - 0s 23ms/step - loss: 0.3644 - accuracy: 0.8214 - val_loss: 4.0878 - val_accuracy: 0.5357 - lr: 0.0010\n",
      "Epoch 41/100\n",
      "14/14 [==============================] - 0s 25ms/step - loss: 0.4440 - accuracy: 0.7857 - val_loss: 2.9893 - val_accuracy: 0.5357 - lr: 0.0010\n",
      "Epoch 42/100\n",
      "14/14 [==============================] - 0s 25ms/step - loss: 0.3887 - accuracy: 0.8929 - val_loss: 3.3696 - val_accuracy: 0.5357 - lr: 0.0010\n",
      "Epoch 43/100\n",
      "14/14 [==============================] - 0s 23ms/step - loss: 0.3596 - accuracy: 0.7857 - val_loss: 3.1820 - val_accuracy: 0.5357 - lr: 0.0010\n",
      "Epoch 44/100\n",
      "14/14 [==============================] - 0s 22ms/step - loss: 0.4643 - accuracy: 0.8214 - val_loss: 1.4797 - val_accuracy: 0.5357 - lr: 0.0010\n",
      "Epoch 45/100\n",
      "14/14 [==============================] - 0s 24ms/step - loss: 0.4750 - accuracy: 0.8214 - val_loss: 0.8991 - val_accuracy: 0.5357 - lr: 0.0010\n",
      "Epoch 46/100\n",
      "14/14 [==============================] - 0s 23ms/step - loss: 0.3384 - accuracy: 0.8571 - val_loss: 1.3624 - val_accuracy: 0.5357 - lr: 0.0010\n",
      "Epoch 47/100\n",
      "14/14 [==============================] - 0s 27ms/step - loss: 0.3047 - accuracy: 0.9286 - val_loss: 0.3614 - val_accuracy: 0.8214 - lr: 0.0010\n",
      "Epoch 48/100\n",
      "14/14 [==============================] - 0s 22ms/step - loss: 0.3647 - accuracy: 0.7857 - val_loss: 0.8101 - val_accuracy: 0.5357 - lr: 0.0010\n",
      "Epoch 49/100\n",
      "14/14 [==============================] - 0s 23ms/step - loss: 0.4022 - accuracy: 0.8571 - val_loss: 0.2421 - val_accuracy: 0.9643 - lr: 0.0010\n",
      "Epoch 50/100\n",
      "14/14 [==============================] - 0s 28ms/step - loss: 0.2793 - accuracy: 0.8929 - val_loss: 0.9662 - val_accuracy: 0.5357 - lr: 0.0010\n",
      "Epoch 51/100\n",
      "14/14 [==============================] - 0s 22ms/step - loss: 0.3569 - accuracy: 0.8929 - val_loss: 0.9857 - val_accuracy: 0.4643 - lr: 0.0010\n",
      "Epoch 52/100\n",
      "14/14 [==============================] - 0s 26ms/step - loss: 0.2618 - accuracy: 0.9286 - val_loss: 0.1815 - val_accuracy: 1.0000 - lr: 0.0010\n",
      "Epoch 53/100\n",
      "14/14 [==============================] - 0s 27ms/step - loss: 0.2519 - accuracy: 0.9286 - val_loss: 0.2439 - val_accuracy: 0.9286 - lr: 0.0010\n",
      "Epoch 54/100\n",
      "14/14 [==============================] - 0s 23ms/step - loss: 0.3122 - accuracy: 0.8929 - val_loss: 0.1833 - val_accuracy: 0.9643 - lr: 0.0010\n",
      "Epoch 55/100\n",
      "14/14 [==============================] - 0s 22ms/step - loss: 0.3441 - accuracy: 0.8571 - val_loss: 1.5467 - val_accuracy: 0.5357 - lr: 0.0010\n",
      "Epoch 56/100\n",
      "14/14 [==============================] - 0s 22ms/step - loss: 0.2861 - accuracy: 0.8929 - val_loss: 0.1764 - val_accuracy: 1.0000 - lr: 0.0010\n",
      "Epoch 57/100\n",
      "14/14 [==============================] - 0s 27ms/step - loss: 0.2168 - accuracy: 0.8929 - val_loss: 0.1689 - val_accuracy: 1.0000 - lr: 0.0010\n",
      "Epoch 58/100\n",
      "14/14 [==============================] - 0s 23ms/step - loss: 0.2614 - accuracy: 0.8929 - val_loss: 0.2970 - val_accuracy: 0.8929 - lr: 0.0010\n",
      "Epoch 59/100\n",
      "14/14 [==============================] - 0s 22ms/step - loss: 0.4305 - accuracy: 0.7143 - val_loss: 0.2059 - val_accuracy: 0.9643 - lr: 0.0010\n",
      "Epoch 60/100\n",
      "14/14 [==============================] - 0s 22ms/step - loss: 0.4374 - accuracy: 0.7500 - val_loss: 0.5502 - val_accuracy: 0.6071 - lr: 0.0010\n",
      "Epoch 61/100\n",
      "14/14 [==============================] - 0s 22ms/step - loss: 0.4310 - accuracy: 0.7857 - val_loss: 0.2561 - val_accuracy: 0.8929 - lr: 0.0010\n",
      "Epoch 62/100\n",
      "14/14 [==============================] - 0s 22ms/step - loss: 0.3644 - accuracy: 0.8214 - val_loss: 1.4499 - val_accuracy: 0.5357 - lr: 0.0010\n",
      "Epoch 63/100\n",
      "14/14 [==============================] - 0s 23ms/step - loss: 0.2928 - accuracy: 0.9286 - val_loss: 0.1582 - val_accuracy: 1.0000 - lr: 0.0010\n",
      "Epoch 64/100\n",
      "14/14 [==============================] - 0s 22ms/step - loss: 0.3456 - accuracy: 0.8929 - val_loss: 0.9035 - val_accuracy: 0.5357 - lr: 0.0010\n",
      "Epoch 65/100\n",
      "14/14 [==============================] - 0s 23ms/step - loss: 0.2696 - accuracy: 1.0000 - val_loss: 0.1619 - val_accuracy: 1.0000 - lr: 0.0010\n",
      "Epoch 66/100\n",
      "14/14 [==============================] - 0s 27ms/step - loss: 0.1257 - accuracy: 0.9643 - val_loss: 0.2330 - val_accuracy: 0.8929 - lr: 0.0010\n",
      "Epoch 67/100\n",
      "14/14 [==============================] - 0s 22ms/step - loss: 0.2175 - accuracy: 0.9286 - val_loss: 0.1664 - val_accuracy: 0.9643 - lr: 0.0010\n",
      "Epoch 68/100\n",
      "14/14 [==============================] - 0s 22ms/step - loss: 0.2648 - accuracy: 0.9286 - val_loss: 0.4727 - val_accuracy: 0.7143 - lr: 0.0010\n",
      "Epoch 69/100\n",
      "14/14 [==============================] - 0s 23ms/step - loss: 0.2330 - accuracy: 0.9286 - val_loss: 0.1522 - val_accuracy: 1.0000 - lr: 0.0010\n",
      "Epoch 70/100\n",
      "14/14 [==============================] - 0s 23ms/step - loss: 0.3025 - accuracy: 0.8571 - val_loss: 0.2995 - val_accuracy: 0.8929 - lr: 0.0010\n",
      "Epoch 71/100\n",
      "14/14 [==============================] - 0s 23ms/step - loss: 0.3813 - accuracy: 0.8571 - val_loss: 1.4319 - val_accuracy: 0.4643 - lr: 0.0010\n",
      "Epoch 72/100\n",
      "14/14 [==============================] - 0s 23ms/step - loss: 0.2609 - accuracy: 0.8571 - val_loss: 0.1353 - val_accuracy: 1.0000 - lr: 0.0010\n",
      "Epoch 73/100\n",
      "14/14 [==============================] - 0s 22ms/step - loss: 0.3225 - accuracy: 0.8929 - val_loss: 0.2767 - val_accuracy: 0.8929 - lr: 0.0010\n",
      "Epoch 74/100\n",
      "14/14 [==============================] - 0s 23ms/step - loss: 0.2440 - accuracy: 0.9286 - val_loss: 0.4912 - val_accuracy: 0.6786 - lr: 0.0010\n",
      "Epoch 75/100\n",
      "14/14 [==============================] - 0s 23ms/step - loss: 0.1884 - accuracy: 0.9286 - val_loss: 1.2100 - val_accuracy: 0.5357 - lr: 0.0010\n",
      "Epoch 76/100\n",
      "14/14 [==============================] - 0s 23ms/step - loss: 0.1744 - accuracy: 0.9643 - val_loss: 0.1813 - val_accuracy: 0.9286 - lr: 0.0010\n",
      "Epoch 77/100\n",
      "14/14 [==============================] - 0s 22ms/step - loss: 0.2338 - accuracy: 1.0000 - val_loss: 0.1268 - val_accuracy: 1.0000 - lr: 0.0010\n",
      "Epoch 78/100\n",
      "14/14 [==============================] - 0s 23ms/step - loss: 0.2359 - accuracy: 0.8214 - val_loss: 0.1139 - val_accuracy: 1.0000 - lr: 0.0010\n",
      "Epoch 79/100\n",
      "14/14 [==============================] - 0s 23ms/step - loss: 0.2023 - accuracy: 0.9286 - val_loss: 0.1917 - val_accuracy: 0.9286 - lr: 0.0010\n",
      "Epoch 80/100\n",
      "14/14 [==============================] - 0s 23ms/step - loss: 0.2203 - accuracy: 0.9643 - val_loss: 0.5452 - val_accuracy: 0.7500 - lr: 0.0010\n",
      "Epoch 81/100\n",
      "14/14 [==============================] - 0s 22ms/step - loss: 0.2040 - accuracy: 0.9286 - val_loss: 0.3348 - val_accuracy: 0.8214 - lr: 0.0010\n",
      "Epoch 82/100\n",
      "14/14 [==============================] - 0s 22ms/step - loss: 0.2408 - accuracy: 0.9286 - val_loss: 0.8141 - val_accuracy: 0.4643 - lr: 0.0010\n",
      "Epoch 83/100\n",
      "14/14 [==============================] - 0s 24ms/step - loss: 0.2343 - accuracy: 0.9643 - val_loss: 0.0954 - val_accuracy: 1.0000 - lr: 0.0010\n",
      "Epoch 84/100\n",
      "14/14 [==============================] - 0s 23ms/step - loss: 0.1911 - accuracy: 0.9643 - val_loss: 0.2830 - val_accuracy: 0.8929 - lr: 0.0010\n",
      "Epoch 85/100\n",
      "14/14 [==============================] - 0s 22ms/step - loss: 0.2480 - accuracy: 0.9286 - val_loss: 2.4383 - val_accuracy: 0.4643 - lr: 0.0010\n",
      "Epoch 86/100\n",
      "14/14 [==============================] - 0s 22ms/step - loss: 0.2736 - accuracy: 0.8571 - val_loss: 2.2587 - val_accuracy: 0.4643 - lr: 0.0010\n",
      "Epoch 87/100\n",
      "14/14 [==============================] - 0s 22ms/step - loss: 0.1287 - accuracy: 1.0000 - val_loss: 0.0808 - val_accuracy: 1.0000 - lr: 0.0010\n",
      "Epoch 88/100\n",
      "14/14 [==============================] - 0s 23ms/step - loss: 0.2494 - accuracy: 0.9643 - val_loss: 0.5688 - val_accuracy: 0.6071 - lr: 0.0010\n",
      "Epoch 89/100\n",
      "14/14 [==============================] - 0s 22ms/step - loss: 0.1491 - accuracy: 0.9643 - val_loss: 0.1652 - val_accuracy: 0.9643 - lr: 0.0010\n",
      "Epoch 90/100\n",
      "14/14 [==============================] - 0s 23ms/step - loss: 0.1686 - accuracy: 0.9286 - val_loss: 0.0955 - val_accuracy: 1.0000 - lr: 0.0010\n",
      "Epoch 91/100\n",
      "14/14 [==============================] - 0s 23ms/step - loss: 0.2928 - accuracy: 0.8214 - val_loss: 0.3006 - val_accuracy: 0.8214 - lr: 0.0010\n",
      "Epoch 92/100\n",
      "14/14 [==============================] - 0s 23ms/step - loss: 0.2296 - accuracy: 0.8929 - val_loss: 0.1977 - val_accuracy: 0.9286 - lr: 0.0010\n",
      "Epoch 93/100\n",
      "14/14 [==============================] - 0s 22ms/step - loss: 0.1787 - accuracy: 0.9643 - val_loss: 0.1058 - val_accuracy: 1.0000 - lr: 0.0010\n",
      "Epoch 94/100\n",
      "14/14 [==============================] - 0s 27ms/step - loss: 0.1060 - accuracy: 1.0000 - val_loss: 0.7181 - val_accuracy: 0.5000 - lr: 0.0010\n",
      "Epoch 95/100\n",
      "14/14 [==============================] - 0s 23ms/step - loss: 0.1442 - accuracy: 0.9643 - val_loss: 0.2332 - val_accuracy: 0.8929 - lr: 0.0010\n",
      "Epoch 96/100\n",
      "14/14 [==============================] - 0s 23ms/step - loss: 0.1758 - accuracy: 0.9643 - val_loss: 0.0843 - val_accuracy: 1.0000 - lr: 0.0010\n",
      "Epoch 97/100\n",
      "14/14 [==============================] - 0s 23ms/step - loss: 0.1960 - accuracy: 0.9286 - val_loss: 0.1955 - val_accuracy: 0.9286 - lr: 0.0010\n",
      "Epoch 98/100\n",
      "14/14 [==============================] - 0s 23ms/step - loss: 0.2271 - accuracy: 0.8929 - val_loss: 1.0071 - val_accuracy: 0.4643 - lr: 0.0010\n",
      "Epoch 99/100\n",
      "14/14 [==============================] - 0s 23ms/step - loss: 0.2244 - accuracy: 0.9286 - val_loss: 0.1831 - val_accuracy: 0.8929 - lr: 0.0010\n",
      "Epoch 100/100\n",
      "14/14 [==============================] - 0s 23ms/step - loss: 0.1361 - accuracy: 0.9643 - val_loss: 0.0775 - val_accuracy: 1.0000 - lr: 0.0010\n",
      "1/1 [==============================] - 0s 279ms/step\n"
     ]
    },
    {
     "name": "stderr",
     "output_type": "stream",
     "text": [
      "findfont: Generic family 'sans-serif' not found because none of the following families were found: Arial\n",
      "findfont: Generic family 'sans-serif' not found because none of the following families were found: Arial\n",
      "findfont: Generic family 'sans-serif' not found because none of the following families were found: Arial\n",
      "findfont: Generic family 'sans-serif' not found because none of the following families were found: Arial\n",
      "findfont: Generic family 'sans-serif' not found because none of the following families were found: Arial\n",
      "findfont: Generic family 'sans-serif' not found because none of the following families were found: Arial\n",
      "findfont: Generic family 'sans-serif' not found because none of the following families were found: Arial\n",
      "findfont: Generic family 'sans-serif' not found because none of the following families were found: Arial\n",
      "findfont: Generic family 'sans-serif' not found because none of the following families were found: Arial\n",
      "findfont: Generic family 'sans-serif' not found because none of the following families were found: Arial\n",
      "findfont: Generic family 'sans-serif' not found because none of the following families were found: Arial\n",
      "findfont: Generic family 'sans-serif' not found because none of the following families were found: Arial\n",
      "findfont: Generic family 'sans-serif' not found because none of the following families were found: Arial\n",
      "findfont: Generic family 'sans-serif' not found because none of the following families were found: Arial\n",
      "findfont: Generic family 'sans-serif' not found because none of the following families were found: Arial\n",
      "findfont: Generic family 'sans-serif' not found because none of the following families were found: Arial\n",
      "findfont: Generic family 'sans-serif' not found because none of the following families were found: Arial\n",
      "findfont: Generic family 'sans-serif' not found because none of the following families were found: Arial\n",
      "findfont: Generic family 'sans-serif' not found because none of the following families were found: Arial\n",
      "findfont: Generic family 'sans-serif' not found because none of the following families were found: Arial\n",
      "findfont: Generic family 'sans-serif' not found because none of the following families were found: Arial\n",
      "findfont: Generic family 'sans-serif' not found because none of the following families were found: Arial\n",
      "findfont: Generic family 'sans-serif' not found because none of the following families were found: Arial\n",
      "findfont: Generic family 'sans-serif' not found because none of the following families were found: Arial\n",
      "findfont: Generic family 'sans-serif' not found because none of the following families were found: Arial\n",
      "findfont: Generic family 'sans-serif' not found because none of the following families were found: Arial\n",
      "findfont: Generic family 'sans-serif' not found because none of the following families were found: Arial\n",
      "findfont: Generic family 'sans-serif' not found because none of the following families were found: Arial\n",
      "findfont: Generic family 'sans-serif' not found because none of the following families were found: Arial\n",
      "findfont: Generic family 'sans-serif' not found because none of the following families were found: Arial\n",
      "findfont: Generic family 'sans-serif' not found because none of the following families were found: Arial\n",
      "findfont: Generic family 'sans-serif' not found because none of the following families were found: Arial\n",
      "findfont: Generic family 'sans-serif' not found because none of the following families were found: Arial\n",
      "findfont: Generic family 'sans-serif' not found because none of the following families were found: Arial\n",
      "findfont: Generic family 'sans-serif' not found because none of the following families were found: Arial\n",
      "findfont: Generic family 'sans-serif' not found because none of the following families were found: Arial\n",
      "findfont: Generic family 'sans-serif' not found because none of the following families were found: Arial\n",
      "findfont: Generic family 'sans-serif' not found because none of the following families were found: Arial\n",
      "findfont: Generic family 'sans-serif' not found because none of the following families were found: Arial\n",
      "findfont: Generic family 'sans-serif' not found because none of the following families were found: Arial\n",
      "findfont: Generic family 'sans-serif' not found because none of the following families were found: Arial\n",
      "findfont: Generic family 'sans-serif' not found because none of the following families were found: Arial\n",
      "findfont: Generic family 'sans-serif' not found because none of the following families were found: Arial\n",
      "findfont: Generic family 'sans-serif' not found because none of the following families were found: Arial\n",
      "findfont: Generic family 'sans-serif' not found because none of the following families were found: Arial\n",
      "findfont: Generic family 'sans-serif' not found because none of the following families were found: Arial\n",
      "findfont: Generic family 'sans-serif' not found because none of the following families were found: Arial\n",
      "findfont: Generic family 'sans-serif' not found because none of the following families were found: Arial\n",
      "findfont: Generic family 'sans-serif' not found because none of the following families were found: Arial\n",
      "findfont: Generic family 'sans-serif' not found because none of the following families were found: Arial\n",
      "findfont: Generic family 'sans-serif' not found because none of the following families were found: Arial\n",
      "findfont: Generic family 'sans-serif' not found because none of the following families were found: Arial\n",
      "findfont: Generic family 'sans-serif' not found because none of the following families were found: Arial\n",
      "findfont: Generic family 'sans-serif' not found because none of the following families were found: Arial\n",
      "findfont: Generic family 'sans-serif' not found because none of the following families were found: Arial\n",
      "findfont: Generic family 'sans-serif' not found because none of the following families were found: Arial\n",
      "findfont: Generic family 'sans-serif' not found because none of the following families were found: Arial\n",
      "findfont: Generic family 'sans-serif' not found because none of the following families were found: Arial\n",
      "findfont: Generic family 'sans-serif' not found because none of the following families were found: Arial\n",
      "findfont: Generic family 'sans-serif' not found because none of the following families were found: Arial\n",
      "findfont: Generic family 'sans-serif' not found because none of the following families were found: Arial\n",
      "findfont: Generic family 'sans-serif' not found because none of the following families were found: Arial\n",
      "findfont: Generic family 'sans-serif' not found because none of the following families were found: Arial\n",
      "findfont: Generic family 'sans-serif' not found because none of the following families were found: Arial\n",
      "findfont: Generic family 'sans-serif' not found because none of the following families were found: Arial\n",
      "findfont: Generic family 'sans-serif' not found because none of the following families were found: Arial\n",
      "findfont: Generic family 'sans-serif' not found because none of the following families were found: Arial\n",
      "findfont: Generic family 'sans-serif' not found because none of the following families were found: Arial\n",
      "findfont: Generic family 'sans-serif' not found because none of the following families were found: Arial\n",
      "findfont: Generic family 'sans-serif' not found because none of the following families were found: Arial\n",
      "findfont: Generic family 'sans-serif' not found because none of the following families were found: Arial\n",
      "findfont: Generic family 'sans-serif' not found because none of the following families were found: Arial\n",
      "findfont: Generic family 'sans-serif' not found because none of the following families were found: Arial\n",
      "findfont: Generic family 'sans-serif' not found because none of the following families were found: Arial\n",
      "findfont: Generic family 'sans-serif' not found because none of the following families were found: Arial\n",
      "findfont: Generic family 'sans-serif' not found because none of the following families were found: Arial\n",
      "findfont: Generic family 'sans-serif' not found because none of the following families were found: Arial\n",
      "findfont: Generic family 'sans-serif' not found because none of the following families were found: Arial\n",
      "findfont: Generic family 'sans-serif' not found because none of the following families were found: Arial\n",
      "findfont: Generic family 'sans-serif' not found because none of the following families were found: Arial\n",
      "findfont: Generic family 'sans-serif' not found because none of the following families were found: Arial\n",
      "findfont: Generic family 'sans-serif' not found because none of the following families were found: Arial\n",
      "findfont: Generic family 'sans-serif' not found because none of the following families were found: Arial\n",
      "findfont: Generic family 'sans-serif' not found because none of the following families were found: Arial\n",
      "findfont: Generic family 'sans-serif' not found because none of the following families were found: Arial\n",
      "findfont: Generic family 'sans-serif' not found because none of the following families were found: Arial\n",
      "findfont: Generic family 'sans-serif' not found because none of the following families were found: Arial\n",
      "findfont: Generic family 'sans-serif' not found because none of the following families were found: Arial\n",
      "findfont: Generic family 'sans-serif' not found because none of the following families were found: Arial\n",
      "findfont: Generic family 'sans-serif' not found because none of the following families were found: Arial\n",
      "findfont: Generic family 'sans-serif' not found because none of the following families were found: Arial\n",
      "findfont: Generic family 'sans-serif' not found because none of the following families were found: Arial\n",
      "findfont: Generic family 'sans-serif' not found because none of the following families were found: Arial\n",
      "findfont: Generic family 'sans-serif' not found because none of the following families were found: Arial\n",
      "findfont: Generic family 'sans-serif' not found because none of the following families were found: Arial\n",
      "findfont: Generic family 'sans-serif' not found because none of the following families were found: Arial\n",
      "findfont: Generic family 'sans-serif' not found because none of the following families were found: Arial\n",
      "findfont: Generic family 'sans-serif' not found because none of the following families were found: Arial\n",
      "findfont: Generic family 'sans-serif' not found because none of the following families were found: Arial\n",
      "findfont: Generic family 'sans-serif' not found because none of the following families were found: Arial\n",
      "findfont: Generic family 'sans-serif' not found because none of the following families were found: Arial\n",
      "findfont: Generic family 'sans-serif' not found because none of the following families were found: Arial\n",
      "findfont: Generic family 'sans-serif' not found because none of the following families were found: Arial\n",
      "findfont: Generic family 'sans-serif' not found because none of the following families were found: Arial\n",
      "findfont: Generic family 'sans-serif' not found because none of the following families were found: Arial\n",
      "findfont: Generic family 'sans-serif' not found because none of the following families were found: Arial\n",
      "findfont: Generic family 'sans-serif' not found because none of the following families were found: Arial\n",
      "findfont: Generic family 'sans-serif' not found because none of the following families were found: Arial\n",
      "findfont: Generic family 'sans-serif' not found because none of the following families were found: Arial\n",
      "findfont: Generic family 'sans-serif' not found because none of the following families were found: Arial\n",
      "findfont: Generic family 'sans-serif' not found because none of the following families were found: Arial\n",
      "findfont: Generic family 'sans-serif' not found because none of the following families were found: Arial\n",
      "findfont: Generic family 'sans-serif' not found because none of the following families were found: Arial\n",
      "findfont: Generic family 'sans-serif' not found because none of the following families were found: Arial\n",
      "findfont: Generic family 'sans-serif' not found because none of the following families were found: Arial\n",
      "findfont: Generic family 'sans-serif' not found because none of the following families were found: Arial\n",
      "findfont: Generic family 'sans-serif' not found because none of the following families were found: Arial\n",
      "findfont: Generic family 'sans-serif' not found because none of the following families were found: Arial\n",
      "findfont: Generic family 'sans-serif' not found because none of the following families were found: Arial\n"
     ]
    }
   ],
   "source": [
    "classifier.fit(x_train, y_train, x_test, y_test, y_true,300)"
   ]
  },
  {
   "cell_type": "code",
   "execution_count": 20,
   "metadata": {},
   "outputs": [
    {
     "name": "stdout",
     "output_type": "stream",
     "text": [
      "2.13.1\n",
      "Num GPUs Available:  0\n"
     ]
    }
   ],
   "source": [
    "import tensorflow as tf\n",
    "print(tf.__version__)\n",
    "print(\"Num GPUs Available: \", len(tf.config.list_physical_devices('GPU')))\n"
   ]
  },
  {
   "cell_type": "code",
   "execution_count": null,
   "metadata": {},
   "outputs": [],
   "source": []
  }
 ],
 "metadata": {
  "kernelspec": {
   "display_name": "gsprivate",
   "language": "python",
   "name": "python3"
  },
  "language_info": {
   "codemirror_mode": {
    "name": "ipython",
    "version": 3
   },
   "file_extension": ".py",
   "mimetype": "text/x-python",
   "name": "python",
   "nbconvert_exporter": "python",
   "pygments_lexer": "ipython3",
   "version": "3.8.18"
  }
 },
 "nbformat": 4,
 "nbformat_minor": 2
}
