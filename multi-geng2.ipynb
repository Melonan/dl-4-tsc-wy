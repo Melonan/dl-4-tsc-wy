{
 "cells": [
  {
   "cell_type": "code",
   "execution_count": 1,
   "metadata": {},
   "outputs": [
    {
     "name": "stdout",
     "output_type": "stream",
     "text": [
      "PATH:/data4/conda_envs/g2/bin:/usr/local/cuda-11.6/bin:/home/beihang/.vscode-server/bin/0ee08df0cf4527e40edc9aa28f4b5bd38bbff2b2/bin/remote-cli:/usr/bin:/data4/conda_envs/g2/bin:/sbin:/usr/local/cuda-10.1/bin:/home/beihang/anaconda3/bin:/home/beihang/anaconda3/condabin:/bin:/usr/bin:/usr/local/bin:/usr/local/cuda-10.1/bin:/home/beihang/anaconda3/bin:/bin:/usr/bin:/bin:/usr/bin:/usr/local/bin:/usr/local/cuda-10.1/bin:/home/beihang/anaconda3/bin:/bin:/usr/bin:/usr/local/cuda/bin:/snap/bin\n",
      "CUDA_HOME:/usr/local/cuda-11.6\n"
     ]
    }
   ],
   "source": [
    "import os\n",
    "\n",
    "\n",
    "# # 修改一个已存在的环境变量\n",
    "# os.environ['PATH'] = '/usr/local/cuda-11.6/bin:' + os.environ['PATH']\n",
    "# os.environ['LIBRARY_PATH'] = '/usr/local/cuda-11.6/lib64:' + os.environ['LIBRARY_PATH']\n",
    "# os.environ['LD_LIBRARY_PATH'] = '/usr/local/cuda-11.6/lib64:'+ os.environ['LD_LIBRARY_PATH']\n",
    "# 使用设置好的环境变量\n",
    "os.environ['CUDA_VISIBLE_DEVICES'] = \"7\"\n",
    "print(f\"PATH:{os.environ['PATH']}\\nCUDA_HOME:{os.environ['CUDA_HOME']}\")\n",
    "dataset_name = \"170Kailuan-relu-4\""
   ]
  },
  {
   "cell_type": "code",
   "execution_count": 2,
   "metadata": {},
   "outputs": [
    {
     "name": "stderr",
     "output_type": "stream",
     "text": [
      "2024-01-19 07:20:19.853520: I tensorflow/core/platform/cpu_feature_guard.cc:182] This TensorFlow binary is optimized to use available CPU instructions in performance-critical operations.\n",
      "To enable the following instructions: AVX2 FMA, in other operations, rebuild TensorFlow with the appropriate compiler flags.\n",
      "2024-01-19 07:20:21.219446: W tensorflow/compiler/tf2tensorrt/utils/py_utils.cc:38] TF-TRT Warning: Could not find TensorRT\n"
     ]
    }
   ],
   "source": [
    "# from aeon.datasets.tsc_data_lists import multivariate_equal_length\n",
    "import pandas as pd\n",
    "import numpy as np\n",
    "from sklearn import preprocessing\n",
    "import sklearn\n",
    "from tensorflow import keras\n",
    "import tensorflow as tf\n",
    "import numpy as np\n",
    "import time \n",
    "from utils import geng\n",
    "from utils.utils import create_directory\n",
    "from utils import logconfig"
   ]
  },
  {
   "cell_type": "code",
   "execution_count": 3,
   "metadata": {},
   "outputs": [],
   "source": [
    "# multivariate_equal_length"
   ]
  },
  {
   "cell_type": "markdown",
   "metadata": {},
   "source": [
    "# Data process"
   ]
  },
  {
   "cell_type": "markdown",
   "metadata": {},
   "source": [
    "## Example of Data"
   ]
  },
  {
   "cell_type": "code",
   "execution_count": 4,
   "metadata": {},
   "outputs": [],
   "source": [
    "# from aeon.datasets import load_classification\n",
    "# import numpy as np\n",
    "# dataset_name = \"Libras\"\n",
    "# archive_name=\"MTS\"\n",
    "# X, Y,meta_data = load_classification(dataset_name,return_metadata=True)\n",
    "# X_reshaped = np.transpose(X, (0, 2, 1))\n",
    "# X = X_reshaped\n",
    "# nb_classes = len(np.unique(Y, axis=0))\n",
    "# nb_classes,X.shape,Y.shape,np.unique(Y)"
   ]
  },
  {
   "cell_type": "markdown",
   "metadata": {},
   "source": [
    "## Data Kailuan"
   ]
  },
  {
   "cell_type": "code",
   "execution_count": 5,
   "metadata": {},
   "outputs": [
    {
     "data": {
      "text/plain": [
       "((140088, 6), (39711, 8), (170, 35))"
      ]
     },
     "execution_count": 5,
     "metadata": {},
     "output_type": "execute_result"
    }
   ],
   "source": [
    "\n",
    "archive_name=\"MTS\"\n",
    "time_series1 = pd.read_csv(\"./combined_sheets.csv\")\n",
    "time_series2 = pd.read_csv(\"./combined_sheets2.csv\")\n",
    "meta_data = pd.read_csv(\"./combinde170_info.csv\")\n",
    "time_series1.shape,time_series2.shape,meta_data.shape "
   ]
  },
  {
   "cell_type": "code",
   "execution_count": 6,
   "metadata": {},
   "outputs": [
    {
     "data": {
      "text/html": [
       "<div>\n",
       "<style scoped>\n",
       "    .dataframe tbody tr th:only-of-type {\n",
       "        vertical-align: middle;\n",
       "    }\n",
       "\n",
       "    .dataframe tbody tr th {\n",
       "        vertical-align: top;\n",
       "    }\n",
       "\n",
       "    .dataframe thead th {\n",
       "        text-align: right;\n",
       "    }\n",
       "</style>\n",
       "<table border=\"1\" class=\"dataframe\">\n",
       "  <thead>\n",
       "    <tr style=\"text-align: right;\">\n",
       "      <th></th>\n",
       "      <th>Timestamp</th>\n",
       "      <th>Sleepstate</th>\n",
       "      <th>Breath</th>\n",
       "      <th>Heartrate</th>\n",
       "      <th>Movement</th>\n",
       "      <th>Source</th>\n",
       "    </tr>\n",
       "  </thead>\n",
       "  <tbody>\n",
       "    <tr>\n",
       "      <th>0</th>\n",
       "      <td>2021-07-02 16:35:25</td>\n",
       "      <td>4</td>\n",
       "      <td>16</td>\n",
       "      <td>78</td>\n",
       "      <td>2</td>\n",
       "      <td>1</td>\n",
       "    </tr>\n",
       "    <tr>\n",
       "      <th>1</th>\n",
       "      <td>2021-07-02 16:36:25</td>\n",
       "      <td>4</td>\n",
       "      <td>16</td>\n",
       "      <td>76</td>\n",
       "      <td>0</td>\n",
       "      <td>1</td>\n",
       "    </tr>\n",
       "    <tr>\n",
       "      <th>2</th>\n",
       "      <td>2021-07-02 16:37:25</td>\n",
       "      <td>4</td>\n",
       "      <td>16</td>\n",
       "      <td>74</td>\n",
       "      <td>0</td>\n",
       "      <td>1</td>\n",
       "    </tr>\n",
       "    <tr>\n",
       "      <th>3</th>\n",
       "      <td>2021-07-02 16:38:25</td>\n",
       "      <td>4</td>\n",
       "      <td>16</td>\n",
       "      <td>74</td>\n",
       "      <td>0</td>\n",
       "      <td>1</td>\n",
       "    </tr>\n",
       "    <tr>\n",
       "      <th>4</th>\n",
       "      <td>2021-07-02 16:39:25</td>\n",
       "      <td>4</td>\n",
       "      <td>16</td>\n",
       "      <td>73</td>\n",
       "      <td>0</td>\n",
       "      <td>1</td>\n",
       "    </tr>\n",
       "    <tr>\n",
       "      <th>...</th>\n",
       "      <td>...</td>\n",
       "      <td>...</td>\n",
       "      <td>...</td>\n",
       "      <td>...</td>\n",
       "      <td>...</td>\n",
       "      <td>...</td>\n",
       "    </tr>\n",
       "    <tr>\n",
       "      <th>39706</th>\n",
       "      <td>2023-12-22 22:58:00</td>\n",
       "      <td>4</td>\n",
       "      <td>17</td>\n",
       "      <td>86</td>\n",
       "      <td>0</td>\n",
       "      <td>170</td>\n",
       "    </tr>\n",
       "    <tr>\n",
       "      <th>39707</th>\n",
       "      <td>2023-12-22 22:59:00</td>\n",
       "      <td>2</td>\n",
       "      <td>17</td>\n",
       "      <td>87</td>\n",
       "      <td>0</td>\n",
       "      <td>170</td>\n",
       "    </tr>\n",
       "    <tr>\n",
       "      <th>39708</th>\n",
       "      <td>2023-12-22 23:00:00</td>\n",
       "      <td>4</td>\n",
       "      <td>17</td>\n",
       "      <td>87</td>\n",
       "      <td>0</td>\n",
       "      <td>170</td>\n",
       "    </tr>\n",
       "    <tr>\n",
       "      <th>39709</th>\n",
       "      <td>2023-12-22 23:01:00</td>\n",
       "      <td>4</td>\n",
       "      <td>18</td>\n",
       "      <td>88</td>\n",
       "      <td>0</td>\n",
       "      <td>170</td>\n",
       "    </tr>\n",
       "    <tr>\n",
       "      <th>39710</th>\n",
       "      <td>2023-12-22 23:02:00</td>\n",
       "      <td>4</td>\n",
       "      <td>19</td>\n",
       "      <td>88</td>\n",
       "      <td>0</td>\n",
       "      <td>170</td>\n",
       "    </tr>\n",
       "  </tbody>\n",
       "</table>\n",
       "<p>179799 rows × 6 columns</p>\n",
       "</div>"
      ],
      "text/plain": [
       "                 Timestamp  Sleepstate  Breath  Heartrate  Movement  Source\n",
       "0      2021-07-02 16:35:25           4      16         78         2       1\n",
       "1      2021-07-02 16:36:25           4      16         76         0       1\n",
       "2      2021-07-02 16:37:25           4      16         74         0       1\n",
       "3      2021-07-02 16:38:25           4      16         74         0       1\n",
       "4      2021-07-02 16:39:25           4      16         73         0       1\n",
       "...                    ...         ...     ...        ...       ...     ...\n",
       "39706  2023-12-22 22:58:00           4      17         86         0     170\n",
       "39707  2023-12-22 22:59:00           2      17         87         0     170\n",
       "39708  2023-12-22 23:00:00           4      17         87         0     170\n",
       "39709  2023-12-22 23:01:00           4      18         88         0     170\n",
       "39710  2023-12-22 23:02:00           4      19         88         0     170\n",
       "\n",
       "[179799 rows x 6 columns]"
      ]
     },
     "execution_count": 6,
     "metadata": {},
     "output_type": "execute_result"
    }
   ],
   "source": [
    "time_series2 = time_series2.drop(['SystolicPressure','DiastolicPressure'],axis=1)\n",
    "time_series = pd.concat([time_series1, time_series2], axis=0)\n",
    "time_series"
   ]
  },
  {
   "cell_type": "code",
   "execution_count": 7,
   "metadata": {},
   "outputs": [],
   "source": [
    "# Movement全变成1 二值化\n",
    "# time_series['Movement'] = np.where(time_series['Movement'] != 0, 1, 0)"
   ]
  },
  {
   "cell_type": "markdown",
   "metadata": {},
   "source": [
    "## 构造每个source的二维数组"
   ]
  },
  {
   "cell_type": "code",
   "execution_count": 8,
   "metadata": {},
   "outputs": [],
   "source": [
    "grouped = time_series.groupby('Source')\n",
    "\n",
    "# 提取特征列\n",
    "features = [ 'Breath', 'Heartrate']\n",
    "\n",
    "# # 将每个组转换为二维数组并堆叠\n",
    "# three_dim_array = np.array([group[features].values for _, group in grouped])\n",
    "\n",
    "# three_dim_array.shape # 显示三维数组的形状"
   ]
  },
  {
   "cell_type": "markdown",
   "metadata": {},
   "source": [
    "## Movement 处理\n",
    "- Movement 取消： 只有fold3有提升 其他4个fold下降\n",
    "- Movement 全部+1 不行 都有下降\n"
   ]
  },
  {
   "cell_type": "code",
   "execution_count": 9,
   "metadata": {},
   "outputs": [],
   "source": [
    "# time_groupby = time_series.groupby('Source')"
   ]
  },
  {
   "cell_type": "code",
   "execution_count": 10,
   "metadata": {},
   "outputs": [],
   "source": [
    "# 查看movement的分布\n",
    "# movement_stac=[{}]\n",
    "# for i in range(1,136):\n",
    "#     print(i)\n",
    "#     keys, vals = np.unique(time_groupby.get_group(int(i))[\"Movement\"].values,return_counts=True)\n",
    "#     result_dict = dict(zip(keys, vals))\n",
    "#     print(result_dict)\n",
    "#     movement_stac.append(result_dict)\n",
    "\n",
    "# # movement_stac"
   ]
  },
  {
   "cell_type": "markdown",
   "metadata": {},
   "source": [
    "## 填充 截断 时间序列"
   ]
  },
  {
   "cell_type": "markdown",
   "metadata": {},
   "source": [
    "## 填充/截断 构造数据集(去掉过少的)"
   ]
  },
  {
   "cell_type": "code",
   "execution_count": 11,
   "metadata": {},
   "outputs": [],
   "source": [
    "# trial block \n"
   ]
  },
  {
   "cell_type": "code",
   "execution_count": 12,
   "metadata": {},
   "outputs": [
    {
     "name": "stdout",
     "output_type": "stream",
     "text": [
      "valid sources: Index([  1,   2,   3,   4,   5,   6,   7,   8,   9,  10,\n",
      "       ...\n",
      "       161, 162, 163, 164, 165, 166, 167, 168, 169, 170],\n",
      "      dtype='int64', name='Source', length=164) \n",
      "obsolete sources: Index([21, 26, 74, 75, 107, 130], dtype='int64', name='Source') \n",
      " len of obsoletes: Source\n",
      "21     148\n",
      "26     251\n",
      "74     193\n",
      "75     150\n",
      "107    415\n",
      "130    188\n",
      "dtype: int64\n",
      "\n",
      " average_time_steps:1088\n"
     ]
    },
    {
     "data": {
      "text/plain": [
       "(164, 1088, 2)"
      ]
     },
     "execution_count": 12,
     "metadata": {},
     "output_type": "execute_result"
    }
   ],
   "source": [
    "# 重新计算每个样例的时间步数（考虑到了数据过滤）\n",
    "filtered_time_steps_per_source = time_series.groupby('Source').size()\n",
    "\n",
    "# 重新筛选出有效的 Source 过滤掉过少的\n",
    "valid_sources = filtered_time_steps_per_source[filtered_time_steps_per_source > 500].index\n",
    "obsolete_sources = filtered_time_steps_per_source[filtered_time_steps_per_source <= 500].index\n",
    "print(\"valid sources:\", valid_sources, \"\\nobsolete sources:\", obsolete_sources, \"\\n len of obsoletes:\",filtered_time_steps_per_source[obsolete_sources])\n",
    "# 重新获取有效的数据\n",
    "valid_filtered_time_series = time_series[time_series['Source'].isin(valid_sources)]\n",
    "\n",
    "# 重新分组\n",
    "valid_filtered_grouped = valid_filtered_time_series.groupby('Source')\n",
    "\n",
    "# 重新计算平均时间步数（此时应该没有 NaN 值）\n",
    "average_time_steps = int(valid_filtered_grouped.size().mean())\n",
    "\n",
    "print(f\"\\n average_time_steps:{average_time_steps}\")\n",
    "\n",
    "# 初始化新的三维数组（考虑到了有效的样例数）\n",
    "valid_sources_count = len(valid_sources)\n",
    "three_dim_array_valid = np.zeros((valid_sources_count, average_time_steps, len(features)))\n",
    "\n",
    "# 填充新的三维数组\n",
    "for i, (source, group) in enumerate(valid_filtered_grouped):\n",
    "    data = group[features].values\n",
    "    current_steps = data.shape[0]\n",
    "    if current_steps < average_time_steps:\n",
    "        fill_values = {\n",
    "            'Breath': group['Breath'].mean(),\n",
    "            'Heartrate': group['Heartrate'].mean(),\n",
    "        }\n",
    "        fill_array = np.array([[fill_values[feature] for feature in features]] * (average_time_steps - current_steps))\n",
    "        full_data = np.vstack(( fill_array,data))\n",
    "    else:\n",
    "        # 调整为截取较后面的元素\n",
    "        full_data = data[current_steps-average_time_steps:, :]\n",
    "    # print(f\"source:{source},current_steps:{current_steps}, full_data shape:{full_data.shape}\")\n",
    "    three_dim_array_valid[i, :, :] = full_data\n",
    "\n",
    "\n",
    "final_data = three_dim_array_valid\n",
    "\n",
    "# 进行数据标准化\n",
    "final_data = geng.standard_scaler_total(final_data)\n",
    "\n",
    "final_data.shape"
   ]
  },
  {
   "cell_type": "markdown",
   "metadata": {},
   "source": [
    "### 标签构造\n",
    "- 意识状态\n",
    "- GCS"
   ]
  },
  {
   "cell_type": "code",
   "execution_count": 13,
   "metadata": {},
   "outputs": [
    {
     "data": {
      "text/plain": [
       "Index([  1,   2,   3,   4,   5,   6,   7,   8,   9,  10,\n",
       "       ...\n",
       "       161, 162, 163, 164, 165, 166, 167, 168, 169, 170],\n",
       "      dtype='int64', name='Source', length=164)"
      ]
     },
     "execution_count": 13,
     "metadata": {},
     "output_type": "execute_result"
    }
   ],
   "source": [
    "valid_sources"
   ]
  },
  {
   "cell_type": "code",
   "execution_count": 14,
   "metadata": {},
   "outputs": [
    {
     "data": {
      "text/plain": [
       "(array([0, 0, 0, 0, 0, 0, 0, 0, 0, 0, 0, 0, 0, 0, 0, 0, 0, 0, 0, 0, 0, 0,\n",
       "        0, 0, 0, 0, 0, 0, 0, 0, 0, 0, 0, 0, 0, 0, 0, 1, 1, 1, 1, 1, 1, 1,\n",
       "        1, 1, 1, 1, 1, 1, 1, 1, 1, 1, 1, 1, 1, 1, 1, 1, 1, 1, 1, 1, 1, 1,\n",
       "        1, 1, 1, 1, 1, 1, 1, 1, 1, 1, 1, 1, 1, 1, 1, 1, 1, 1, 1, 1, 1, 1,\n",
       "        1, 1, 1, 1, 1, 1, 1, 1, 1, 1, 1, 1, 1, 1, 2, 2, 2, 2, 2, 2, 2, 2,\n",
       "        2, 2, 2, 2, 2, 2, 2, 2, 2, 2, 2, 2, 2, 2, 2, 2, 2, 2, 2, 1, 1, 1,\n",
       "        1, 1, 1, 1, 1, 1, 1, 1, 1, 1, 1, 1, 1, 1, 1, 1, 1, 1, 1, 2, 2, 2,\n",
       "        2, 2, 2, 1, 1, 1, 1, 1, 2, 1]),\n",
       " (164,))"
      ]
     },
     "execution_count": 14,
     "metadata": {},
     "output_type": "execute_result"
    }
   ],
   "source": [
    "labels = meta_data[\"意识状态\"].values\n",
    "\n",
    "valid_sources = valid_sources-1\n",
    "labels = [labels[i] for i in range(len(labels)) if i in valid_sources]\n",
    "# labels = [1 if x == 2 else x for x in labels]\n",
    "nb_classes = len(np.unique(labels, axis=0))\n",
    "labels = np.array(labels)\n",
    "labels, labels.shape"
   ]
  },
  {
   "cell_type": "markdown",
   "metadata": {},
   "source": [
    "## (填充/截断)构造数据集 原本版 "
   ]
  },
  {
   "cell_type": "code",
   "execution_count": null,
   "metadata": {},
   "outputs": [],
   "source": [
    "\n",
    "# average_time_steps = int(grouped.apply(lambda x: x.shape[0]).mean())\n",
    "\n",
    "# # 初始化三维数组\n",
    "# features = ['Sleepstate', 'Breath', 'Heartrate', 'Movement']\n",
    "# three_dim_array = np.zeros((135, average_time_steps, len(features)))\n",
    "\n",
    "# # 填充三维数组\n",
    "# for source, group in grouped:\n",
    "#     data = group[features].values\n",
    "#     current_steps = data.shape[0]\n",
    "\n",
    "#     if current_steps < average_time_steps:\n",
    "#         fill_values = {\n",
    "#             'Breath': group['Breath'].mean(),\n",
    "#             'Heartrate': group['Heartrate'].mean(),\n",
    "#             'Sleepstate': group['Sleepstate'].median(),\n",
    "#             'Movement': 0\n",
    "#         }\n",
    "#         fill_array = np.array([[fill_values[feature] for feature in features]] * (average_time_steps - current_steps))\n",
    "#         full_data = np.vstack((data, fill_array))\n",
    "#     else:\n",
    "#         full_data = data[:average_time_steps, :]\n",
    "\n",
    "#     three_dim_array[source-1, :, :] = full_data\n",
    "\n",
    "# three_dim_array.shape  # 显示三维数组的形状\n"
   ]
  },
  {
   "cell_type": "markdown",
   "metadata": {},
   "source": [
    "### 标签构造\n",
    "- 意识状态\n",
    "- GCS"
   ]
  },
  {
   "cell_type": "code",
   "execution_count": null,
   "metadata": {},
   "outputs": [],
   "source": [
    "# labels = meta_data[\"意识状态\"].values\n",
    "# nb_classes = len(np.unique(labels, axis=0))\n",
    "# labels,nb_classes"
   ]
  },
  {
   "cell_type": "code",
   "execution_count": null,
   "metadata": {},
   "outputs": [],
   "source": [
    "def data_final_process(x,y):\n",
    "    nb_classes = len(np.unique(y, axis=0))\n",
    "    # transform the labels from integers to one hot vectors\n",
    "    enc = sklearn.preprocessing.OneHotEncoder(categories='auto')\n",
    "    enc.fit(y.reshape(-1, 1))\n",
    "    y = enc.transform(y.reshape(-1, 1)).toarray()\n",
    "\n",
    "    # # save orignal y because later we will use binary\n",
    "    # y_true = np.argmax(y_test, axis=1)\n",
    "    print(f'x.shape: {x.shape}, y.shape: {y.shape}\\n')\n",
    "    if len(x.shape) == 2:  # if univariate\n",
    "        # add a dimension to make it multivariate with one dimension \n",
    "        x = x.reshape((x.shape[0], x.shape[1], 1))\n",
    "\n",
    "    input_shape = x.shape[1:]\n",
    "    print(f'input_shape: {input_shape}\\n')\n",
    "    \n",
    "    return x,y,input_shape"
   ]
  },
  {
   "cell_type": "code",
   "execution_count": null,
   "metadata": {},
   "outputs": [],
   "source": []
  },
  {
   "cell_type": "code",
   "execution_count": null,
   "metadata": {},
   "outputs": [],
   "source": [
    "# classifier_name=\"fcn\"\n",
    "# root_dir=\"/data4/gsprivate/dl-4-tsc\"\n",
    "# output_directory = root_dir + '/results/' + classifier_name + '/' + archive_name + '' + '/' + \\\n",
    "#                     dataset_name + '/'\n",
    "                    \n",
    "# if create_directory(output_directory) is None:\n",
    "#     print(\"Creating directory:{} None\".format(output_directory))\n",
    "\n",
    "# x,y,input_shape=data_final_process(final_data,labels)\n",
    "# fcn_classifier = geng.create_classifier(classifier_name, input_shape, nb_classes, output_directory)\n",
    "# print(f\"Classifier x.shape={x.shape} ,y.shape={y.shape}, input_shape={input_shape}, nb_classes={nb_classes}\")"
   ]
  },
  {
   "cell_type": "code",
   "execution_count": null,
   "metadata": {},
   "outputs": [],
   "source": [
    "# classifier_name=\"cnn\"\n",
    "# root_dir=\"/data4/gsprivate/dl-4-tsc\"\n",
    "# output_directory = root_dir + '/results/' + classifier_name + '/' + archive_name + '' + '/' + \\\n",
    "#                     dataset_name + '/'\n",
    "                    \n",
    "# if create_directory(output_directory) is None:\n",
    "#     print(\"Creating directory:{} None\".format(output_directory))\n",
    "\n",
    "# x,y,input_shape=data_final_process(final_data,labels)\n",
    "# cnn_classifier = geng.create_classifier(classifier_name, input_shape, nb_classes, output_directory)\n",
    "# print(f\"Classifier x.shape={x.shape} ,y.shape={y.shape}, input_shape={input_shape}, nb_classes={nb_classes}\")"
   ]
  },
  {
   "cell_type": "code",
   "execution_count": null,
   "metadata": {},
   "outputs": [],
   "source": [
    "classifier_name=\"mcnn\"\n",
    "root_dir=\"/data4/gsprivate/dl-4-tsc\"\n",
    "output_directory = root_dir + '/results/' + classifier_name + '/' + archive_name + '' + '/' + \\\n",
    "                    dataset_name + '/'\n",
    "                    \n",
    "if create_directory(output_directory) is None:\n",
    "    print(\"Creating directory:{} None\".format(output_directory))\n",
    "\n",
    "x,y,input_shape=data_final_process(final_data,labels)\n",
    "mcnn_classifier = geng.create_classifier(classifier_name, input_shape, nb_classes, output_directory)\n",
    "print(f\"Classifier x.shape={x.shape} ,y.shape={y.shape}, input_shape={input_shape}, nb_classes={nb_classes}\")"
   ]
  },
  {
   "cell_type": "code",
   "execution_count": null,
   "metadata": {},
   "outputs": [],
   "source": [
    "# %%capture cap --no-stderr\n",
    "# print(\"这将写入到文件中\")\n",
    "logconfig.setup_logging(dir=output_directory)\n",
    "geng.fit_splits_for_mcnn(mcnn_classifier,x,y,epochs=250)\n",
    "print(\"DONE\")"
   ]
  },
  {
   "cell_type": "code",
   "execution_count": null,
   "metadata": {},
   "outputs": [],
   "source": [
    "# geng.fit_splits(cnn_classifier,x,y,batch_size=8,epochs=200)\n",
    "# print('DONE')"
   ]
  },
  {
   "cell_type": "code",
   "execution_count": null,
   "metadata": {},
   "outputs": [],
   "source": [
    "# import torch \n",
    "import tensorflow as tf\n",
    "\n",
    "# print(torch.version.cuda)·\n",
    "# print(torch.backends.cudnn.version())\n",
    "print(\"Num GPUs Available: \", len(tf.config.experimental.list_physical_devices('GPU')))\n"
   ]
  },
  {
   "cell_type": "code",
   "execution_count": null,
   "metadata": {},
   "outputs": [],
   "source": [
    "# import os\n",
    "\n",
    "# # Retrieving all environment variables\n",
    "# env_vars = os.environ\n",
    "\n",
    "# # Displaying the environment variables\n",
    "# env_vars_dict = {key: env_vars[key] for key in env_vars}\n",
    "# env_vars_dict['LD_LIBRARY_PATH']"
   ]
  },
  {
   "cell_type": "code",
   "execution_count": null,
   "metadata": {},
   "outputs": [],
   "source": []
  }
 ],
 "metadata": {
  "kernelspec": {
   "display_name": "gsprivate",
   "language": "python",
   "name": "python3"
  },
  "language_info": {
   "codemirror_mode": {
    "name": "ipython",
    "version": 3
   },
   "file_extension": ".py",
   "mimetype": "text/x-python",
   "name": "python",
   "nbconvert_exporter": "python",
   "pygments_lexer": "ipython3",
   "version": "3.8.18"
  }
 },
 "nbformat": 4,
 "nbformat_minor": 2
}
